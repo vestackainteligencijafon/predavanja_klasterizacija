{
 "cells": [
  {
   "metadata": {},
   "cell_type": "markdown",
   "source": [
    "# Da li znanje matematike ima veze sa znanjem programiranja\n",
    "\n",
    "U fajlu \"studenti.csv\" je dataset sa podacima više studenata (svaki red je jedan student) i kolonama:\n",
    "- Indeks (broj indeksa - anonimizirano)\n",
    "- Ime, Prezime (anonimizirano)\n",
    "- Pol\n",
    "- Matematika 1 (broj poena na ispitu iz matematike)\n",
    "- Principi programiranja (broj poena na ispitu iz programiranja)\n",
    "\n",
    "Potrebno je utvrditi da li postoje neke grupe studenata kada se analiziraju ocene iz matematike i programiranja.\n",
    "Subjektivne pretpostavke su da studenti koji znaju matematiku, znaju dobro i da programiraju. Ne uzimati u obzir\n",
    "pol studenata pri klasterizaciji.\n",
    "\n",
    "Probati sa **hijerarhijskom klasterizacijom**.\n",
    "\n",
    "Kojem klasteru bi pripao student koji ima 50 poena iz matematike i 100 iz programiranja?\n",
    "\n",
    "Napomene:\n",
    "- Ovo je \"idealan\" primer, ali su podaci stvarni\n",
    "- Nema nedostajućih podataka\n",
    "- Nema outlier-a\n",
    "- Radi se analiza samo prema dve promenljive (broj poena iz matematike i programiranja)\n",
    "- Obe promenljive su u istom rasponu od 40 do 100"
   ],
   "id": "482341005a616b46"
  }
 ],
 "metadata": {
  "kernelspec": {
   "display_name": "Python 3",
   "language": "python",
   "name": "python3"
  },
  "language_info": {
   "codemirror_mode": {
    "name": "ipython",
    "version": 2
   },
   "file_extension": ".py",
   "mimetype": "text/x-python",
   "name": "python",
   "nbconvert_exporter": "python",
   "pygments_lexer": "ipython2",
   "version": "2.7.6"
  }
 },
 "nbformat": 4,
 "nbformat_minor": 5
}
